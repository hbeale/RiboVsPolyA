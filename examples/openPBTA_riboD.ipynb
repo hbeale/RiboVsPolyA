{
 "cells": [
  {
   "cell_type": "code",
   "execution_count": 1,
   "metadata": {},
   "outputs": [],
   "source": [
    "import pandas as pd\n",
    "import numpy as np\n",
    "import pickle\n",
    "import argparse\n",
    "import sys\n",
    "import os"
   ]
  },
  {
   "cell_type": "markdown",
   "metadata": {},
   "source": [
    "### Following is code from RF_deploy.py"
   ]
  },
  {
   "cell_type": "code",
   "execution_count": 2,
   "metadata": {},
   "outputs": [],
   "source": [
    "def gene_checker(input_file):\n",
    "    '''\n",
    "    Function checks the input file's genes.\n",
    "    The intersection between the input file's genes and the predetermined classifier genes is taken.\n",
    "    Then the function checks for genes are not present in the input file.\n",
    "    For those genes, the expression vector is set to 0.\n",
    "    A new dataframe is returned with the correct order of genes.\n",
    "\n",
    "    Parameters\n",
    "    ----------\n",
    "    input_file; pandas df - shape should be (samples x genes)\n",
    "    \n",
    "    Returns\n",
    "    ---------\n",
    "    new_input_file; pandas df - shape (samples x genes)\n",
    "    '''\n",
    "    \n",
    "    classifier_genes = np.loadtxt('../ClassifierGenes.txt', dtype='str')\n",
    "    new_input_file = input_file.T.loc[classifier_genes].T # seleting classifier selected genes in the classifier determined order\n",
    "    \n",
    "    # will fill genes that do not exist in the input with zero\n",
    "    # if no NAN values, none will be filled\n",
    "    new_input_file = new_input_file.fillna(0) \n",
    "    \n",
    "    return new_input_file\n",
    "\n",
    "def deploy(input_file, model_path):\n",
    "    classifier_genes = np.loadtxt('../ClassifierGenes.txt', dtype='str')\n",
    "\n",
    "    expr_input = input_file\n",
    "    \n",
    "    print('reading input...') \n",
    "    expr_input = pd.read_csv(expr_input, sep='\\t', index_col=0)\n",
    "\n",
    "    print(\"before gene intersection...\")\n",
    "    print(expr_input.shape)\n",
    "    expr_input = gene_checker(expr_input) # making sure genes are correct for classifier\n",
    "    print(\"After gene intersection...\")\n",
    "    print(expr_input.shape)\n",
    "\n",
    "    print('applying model...')\n",
    "    model = pickle.load(open(model_path, 'rb'))\n",
    "    print(model)\n",
    "    \n",
    "    predictions = model.predict(expr_input)\n",
    "    predict_proba = model.predict_proba(expr_input)\n",
    "    \n",
    "    print(\"saving results...\")\n",
    "    predictions = pd.DataFrame(np.hstack([predictions.reshape(-1,1), predict_proba]), index=expr_input.index, columns=['Ribo', 'Proba_0', 'Proba_1'])\n",
    "\n",
    "    return predictions"
   ]
  },
  {
   "cell_type": "markdown",
   "metadata": {},
   "source": [
    "## Applying **balanced** model on openPBTA RiboD samples"
   ]
  },
  {
   "cell_type": "code",
   "execution_count": 3,
   "metadata": {},
   "outputs": [
    {
     "name": "stdout",
     "output_type": "stream",
     "text": [
      "reading input...\n",
      "before gene intersection...\n",
      "(970, 58347)\n"
     ]
    },
    {
     "name": "stderr",
     "output_type": "stream",
     "text": [
      "/home/ubuntu/anaconda3/lib/python3.7/site-packages/ipykernel_launcher.py:19: FutureWarning: \n",
      "Passing list-likes to .loc or [] with any missing label will raise\n",
      "KeyError in the future, you can use .reindex() as an alternative.\n",
      "\n",
      "See the documentation here:\n",
      "https://pandas.pydata.org/pandas-docs/stable/indexing.html#deprecate-loc-reindex-listlike\n"
     ]
    },
    {
     "name": "stdout",
     "output_type": "stream",
     "text": [
      "After gene intersection...\n",
      "(970, 25924)\n",
      "applying model...\n",
      "RandomForestClassifier(bootstrap=True, ccp_alpha=0.0, class_weight=None,\n",
      "                       criterion='gini', max_depth=5, max_features='auto',\n",
      "                       max_leaf_nodes=None, max_samples=None,\n",
      "                       min_impurity_decrease=0.0, min_impurity_split=None,\n",
      "                       min_samples_leaf=1, min_samples_split=2,\n",
      "                       min_weight_fraction_leaf=0.0, n_estimators=1000,\n",
      "                       n_jobs=-1, oob_score=True, random_state=42, verbose=1,\n",
      "                       warm_start=False)\n"
     ]
    },
    {
     "name": "stderr",
     "output_type": "stream",
     "text": [
      "[Parallel(n_jobs=15)]: Using backend ThreadingBackend with 15 concurrent workers.\n",
      "[Parallel(n_jobs=15)]: Done  20 tasks      | elapsed:    0.0s\n",
      "[Parallel(n_jobs=15)]: Done 170 tasks      | elapsed:    0.2s\n",
      "[Parallel(n_jobs=15)]: Done 420 tasks      | elapsed:    0.4s\n",
      "[Parallel(n_jobs=15)]: Done 770 tasks      | elapsed:    0.7s\n",
      "[Parallel(n_jobs=15)]: Done 1000 out of 1000 | elapsed:    0.9s finished\n",
      "[Parallel(n_jobs=15)]: Using backend ThreadingBackend with 15 concurrent workers.\n",
      "[Parallel(n_jobs=15)]: Done  20 tasks      | elapsed:    0.0s\n",
      "[Parallel(n_jobs=15)]: Done 170 tasks      | elapsed:    0.2s\n",
      "[Parallel(n_jobs=15)]: Done 420 tasks      | elapsed:    0.4s\n",
      "[Parallel(n_jobs=15)]: Done 770 tasks      | elapsed:    0.8s\n",
      "[Parallel(n_jobs=15)]: Done 1000 out of 1000 | elapsed:    1.0s finished\n"
     ]
    },
    {
     "name": "stdout",
     "output_type": "stream",
     "text": [
      "saving results...\n"
     ]
    }
   ],
   "source": [
    "balanced_predictions = deploy(\"../data/pbta-gene-expression-rsem-tpm.stranded.csv\", \"../RiboVsPoly_balanced.sav\")"
   ]
  },
  {
   "cell_type": "code",
   "execution_count": 7,
   "metadata": {},
   "outputs": [
    {
     "data": {
      "text/plain": [
       "0.0    969\n",
       "1.0      1\n",
       "Name: Ribo, dtype: int64"
      ]
     },
     "execution_count": 7,
     "metadata": {},
     "output_type": "execute_result"
    }
   ],
   "source": [
    "# Only one sample was predicted to by RiboD\n",
    "balanced_predictions.Ribo.value_counts()"
   ]
  },
  {
   "cell_type": "code",
   "execution_count": 15,
   "metadata": {},
   "outputs": [
    {
     "name": "stdout",
     "output_type": "stream",
     "text": [
      "Percentage of RiboD samples correctly classified 0.001\n"
     ]
    }
   ],
   "source": [
    "res = balanced_predictions.Ribo.value_counts().loc[1.0]/balanced_predictions.shape[0]\n",
    "print('Percentage of RiboD samples correctly classified %.3f'%res)"
   ]
  },
  {
   "cell_type": "markdown",
   "metadata": {},
   "source": [
    "## The majority of sample were wrongly classified as RiboD\n",
    "* Only 13 samples were correctly classified"
   ]
  },
  {
   "cell_type": "markdown",
   "metadata": {},
   "source": [
    "## Applying **unbalanced** model on openPBTA RiboD samples"
   ]
  },
  {
   "cell_type": "code",
   "execution_count": 8,
   "metadata": {},
   "outputs": [
    {
     "name": "stdout",
     "output_type": "stream",
     "text": [
      "reading input...\n",
      "before gene intersection...\n",
      "(970, 58347)\n"
     ]
    },
    {
     "name": "stderr",
     "output_type": "stream",
     "text": [
      "/home/ubuntu/anaconda3/lib/python3.7/site-packages/ipykernel_launcher.py:19: FutureWarning: \n",
      "Passing list-likes to .loc or [] with any missing label will raise\n",
      "KeyError in the future, you can use .reindex() as an alternative.\n",
      "\n",
      "See the documentation here:\n",
      "https://pandas.pydata.org/pandas-docs/stable/indexing.html#deprecate-loc-reindex-listlike\n"
     ]
    },
    {
     "name": "stdout",
     "output_type": "stream",
     "text": [
      "After gene intersection...\n",
      "(970, 25924)\n",
      "applying model...\n",
      "RandomForestClassifier(bootstrap=True, ccp_alpha=0.0, class_weight=None,\n",
      "                       criterion='gini', max_depth=5, max_features='auto',\n",
      "                       max_leaf_nodes=None, max_samples=None,\n",
      "                       min_impurity_decrease=0.0, min_impurity_split=None,\n",
      "                       min_samples_leaf=1, min_samples_split=2,\n",
      "                       min_weight_fraction_leaf=0.0, n_estimators=1000,\n",
      "                       n_jobs=-1, oob_score=True, random_state=42, verbose=1,\n",
      "                       warm_start=False)\n"
     ]
    },
    {
     "name": "stderr",
     "output_type": "stream",
     "text": [
      "[Parallel(n_jobs=15)]: Using backend ThreadingBackend with 15 concurrent workers.\n",
      "[Parallel(n_jobs=15)]: Done  20 tasks      | elapsed:    0.0s\n",
      "[Parallel(n_jobs=15)]: Done 170 tasks      | elapsed:    0.1s\n",
      "[Parallel(n_jobs=15)]: Done 420 tasks      | elapsed:    0.3s\n",
      "[Parallel(n_jobs=15)]: Done 770 tasks      | elapsed:    0.6s\n",
      "[Parallel(n_jobs=15)]: Done 1000 out of 1000 | elapsed:    0.7s finished\n",
      "[Parallel(n_jobs=15)]: Using backend ThreadingBackend with 15 concurrent workers.\n",
      "[Parallel(n_jobs=15)]: Done  20 tasks      | elapsed:    0.0s\n",
      "[Parallel(n_jobs=15)]: Done 170 tasks      | elapsed:    0.2s\n",
      "[Parallel(n_jobs=15)]: Done 420 tasks      | elapsed:    0.4s\n",
      "[Parallel(n_jobs=15)]: Done 770 tasks      | elapsed:    0.8s\n"
     ]
    },
    {
     "name": "stdout",
     "output_type": "stream",
     "text": [
      "saving results...\n"
     ]
    },
    {
     "name": "stderr",
     "output_type": "stream",
     "text": [
      "[Parallel(n_jobs=15)]: Done 1000 out of 1000 | elapsed:    1.0s finished\n"
     ]
    }
   ],
   "source": [
    "unbalanced_predictions = deploy(\"../data/pbta-gene-expression-rsem-tpm.stranded.csv\", \"../RiboVsPoly_unbalanced.sav\")"
   ]
  },
  {
   "cell_type": "code",
   "execution_count": 9,
   "metadata": {},
   "outputs": [
    {
     "data": {
      "text/plain": [
       "1.0    563\n",
       "0.0    407\n",
       "Name: Ribo, dtype: int64"
      ]
     },
     "execution_count": 9,
     "metadata": {},
     "output_type": "execute_result"
    }
   ],
   "source": [
    "unbalanced_predictions.Ribo.value_counts()"
   ]
  },
  {
   "cell_type": "code",
   "execution_count": 14,
   "metadata": {},
   "outputs": [
    {
     "name": "stdout",
     "output_type": "stream",
     "text": [
      "Percentage of RiboD samples correctly classified 0.580\n"
     ]
    }
   ],
   "source": [
    "res = unbalanced_predictions.Ribo.value_counts().loc[1.0]/unbalanced_predictions.shape[0]\n",
    "print('Percentage of RiboD samples correctly classified %.3f'%res)"
   ]
  },
  {
   "cell_type": "markdown",
   "metadata": {},
   "source": [
    "## Unbalanced model performs much better than balanced model in RiboD prediction"
   ]
  }
 ],
 "metadata": {
  "kernelspec": {
   "display_name": "Python 3",
   "language": "python",
   "name": "python3"
  },
  "language_info": {
   "codemirror_mode": {
    "name": "ipython",
    "version": 3
   },
   "file_extension": ".py",
   "mimetype": "text/x-python",
   "name": "python",
   "nbconvert_exporter": "python",
   "pygments_lexer": "ipython3",
   "version": "3.7.3"
  }
 },
 "nbformat": 4,
 "nbformat_minor": 2
}
