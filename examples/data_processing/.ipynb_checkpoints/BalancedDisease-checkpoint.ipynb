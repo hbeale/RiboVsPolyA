{
 "cells": [
  {
   "cell_type": "markdown",
   "metadata": {},
   "source": [
    "# The following notebook merges PolyA and RiboD datasets\n",
    "* Datasets are unbalanced in terms of disease\n",
    "* PolyA datasets has many more samples compared to RiboD\n",
    "* Balacing of diseases is done based on the disease prevalence of RiboD\n"
   ]
  },
  {
   "cell_type": "code",
   "execution_count": 1,
   "metadata": {},
   "outputs": [],
   "source": [
    "import pandas as pd\n",
    "import numpy as np\n",
    "from sklearn.model_selection import train_test_split\n",
    "import matplotlib.pyplot as plt"
   ]
  },
  {
   "cell_type": "markdown",
   "metadata": {},
   "source": [
    "## Loading PolyA and RiboD gene expression data"
   ]
  },
  {
   "cell_type": "code",
   "execution_count": null,
   "metadata": {},
   "outputs": [],
   "source": [
    "# the following files were prepared during setup.py\n",
    "poly = pd.read_csv('../../data_test/Poly.tsv', sep='\\t', index_col=0)\n",
    "ribo = pd.read_csv('../../data_test/Ribo.tsv', sep='\\t', index_col=0)"
   ]
  },
  {
   "cell_type": "code",
   "execution_count": null,
   "metadata": {},
   "outputs": [],
   "source": [
    "poly.shape"
   ]
  },
  {
   "cell_type": "code",
   "execution_count": null,
   "metadata": {},
   "outputs": [],
   "source": [
    "ribo.shape"
   ]
  },
  {
   "cell_type": "markdown",
   "metadata": {},
   "source": [
    "## Loading Clinical Metadata for both PolyA and RiboD data"
   ]
  },
  {
   "cell_type": "code",
   "execution_count": null,
   "metadata": {},
   "outputs": [],
   "source": [
    "poly_clinical = pd.read_csv('../../data_test/clinical_TumorCompendium_v10_PolyA_2019-07-25.tsv', sep='\\t', index_col=0)\n",
    "ribo_clinical = pd.read_csv('../../data_test/TreehousePEDv9_Ribodeplete_clinical_metadata.2019-03-25.tsv', sep='\\t', index_col=0)"
   ]
  },
  {
   "cell_type": "markdown",
   "metadata": {},
   "source": [
    "## Removing diseases that are represented by one sample"
   ]
  },
  {
   "cell_type": "code",
   "execution_count": null,
   "metadata": {},
   "outputs": [],
   "source": [
    "poly_single_disease = poly_clinical.disease.value_counts().index.values[(poly_clinical.disease.value_counts()==1)]\n",
    "ribo_single_disease = ribo_clinical.disease.value_counts().index.values[(ribo_clinical.disease.value_counts()==1)]"
   ]
  },
  {
   "cell_type": "markdown",
   "metadata": {},
   "source": [
    "## Filling any NA values in the clinical files\n",
    "* one sample with NA values"
   ]
  },
  {
   "cell_type": "code",
   "execution_count": null,
   "metadata": {},
   "outputs": [],
   "source": [
    "poly_clinical_dropped = poly_clinical.loc[~poly_clinical.disease.str.contains('|'.join(poly_single_disease)).fillna(True)] #one na sample\n",
    "ribo_clinical_dropped = ribo_clinical.loc[~ribo_clinical.disease.str.contains('|'.join(ribo_single_disease)).fillna(True)] #one na sample\n"
   ]
  },
  {
   "cell_type": "markdown",
   "metadata": {},
   "source": [
    "## Collecting common diseases from PolyA and RiboD"
   ]
  },
  {
   "cell_type": "code",
   "execution_count": null,
   "metadata": {},
   "outputs": [],
   "source": [
    "common_diseases = set(ribo_clinical_dropped.disease.value_counts().index).intersection(poly_clinical_dropped.disease.value_counts().index)"
   ]
  },
  {
   "cell_type": "code",
   "execution_count": null,
   "metadata": {},
   "outputs": [],
   "source": [
    "# Displaying common diseases\n",
    "(common_diseases)"
   ]
  },
  {
   "cell_type": "markdown",
   "metadata": {},
   "source": [
    "## Selecting samples from PolyA and RiboD that match common_diseases"
   ]
  },
  {
   "cell_type": "code",
   "execution_count": null,
   "metadata": {},
   "outputs": [],
   "source": [
    "poly_masked = np.arange(poly_clinical_dropped.shape[0])\n",
    "ribo_masked = np.arange(ribo_clinical_dropped.shape[0])\n",
    "poly_clinical_disease_common_idx = []\n",
    "ribo_clinical_disease_common_idx = []\n",
    "\n",
    "for disease in common_diseases:\n",
    "    poly_disease_booleans = (poly_clinical_dropped.disease==disease).values\n",
    "    ribo_disease_booleans = (ribo_clinical_dropped.disease==disease).values\n",
    "    poly_disease_idx = poly_masked[poly_disease_booleans]\n",
    "    ribo_disease_idx = ribo_masked[ribo_disease_booleans]\n",
    "\n",
    "    poly_clinical_disease_common_idx += list(poly_disease_idx)\n",
    "    ribo_clinical_disease_common_idx += list(ribo_disease_idx)\n",
    "    \n",
    "poly_clinical_disease_common = poly_clinical_dropped.iloc[poly_clinical_disease_common_idx]\n",
    "ribo_clinical_disease_common = ribo_clinical_dropped.iloc[ribo_clinical_disease_common_idx]"
   ]
  },
  {
   "cell_type": "markdown",
   "metadata": {},
   "source": [
    "# Checking prevalence of diseases in both datasets..."
   ]
  },
  {
   "cell_type": "code",
   "execution_count": null,
   "metadata": {},
   "outputs": [],
   "source": [
    "poly_clinical_disease_common.disease.value_counts()/poly_clinical_disease_common.disease.value_counts().sum()"
   ]
  },
  {
   "cell_type": "code",
   "execution_count": null,
   "metadata": {},
   "outputs": [],
   "source": [
    "ribo_clinical_disease_common.disease.value_counts()/ribo_clinical_disease_common.disease.value_counts().sum()"
   ]
  },
  {
   "cell_type": "markdown",
   "metadata": {},
   "source": [
    "## Diseases are still not balanced"
   ]
  },
  {
   "cell_type": "code",
   "execution_count": null,
   "metadata": {},
   "outputs": [],
   "source": [
    "desired_prevalence = ribo_clinical_disease_common.disease.value_counts()\n"
   ]
  },
  {
   "cell_type": "markdown",
   "metadata": {},
   "source": [
    "## Picking samples in expression files that are match common diseases"
   ]
  },
  {
   "cell_type": "code",
   "execution_count": null,
   "metadata": {},
   "outputs": [],
   "source": [
    "# picking polyA samples belonging in common_diseases\n",
    "poly_disease_common = poly.loc[poly_clinical_disease_common.index]\n",
    "\n",
    "# picking riboD samples belonging in common_diseases\n",
    "ribo_disease_common = ribo.loc[ribo_clinical_disease_common.index]"
   ]
  },
  {
   "cell_type": "markdown",
   "metadata": {},
   "source": [
    "## Subsampling from PolyA based on RiboD prevalence"
   ]
  },
  {
   "cell_type": "code",
   "execution_count": null,
   "metadata": {},
   "outputs": [],
   "source": [
    "poly_subsampled = []\n",
    "for disease in desired_prevalence.index:\n",
    "    sample = desired_prevalence.loc[disease] # disease prevalence in RiboD\n",
    "    n = poly_disease_common.loc[poly_clinical_disease_common.disease==disease].shape[0] # number of polyA samples beloging in common disease\n",
    "    \n",
    "    if sample <=n:\n",
    "        # if number of riboD samples belogning to disease is less than polyA samples belong to disease\n",
    "        # then sample from polyA samples as big as the number of samples in riboD \n",
    "        disease_subsample = poly_disease_common.loc[poly_clinical_disease_common.disease==disease].sample(n=sample)\n",
    "        \n",
    "    else:\n",
    "        disease_subsample = poly_disease_common.loc[poly_clinical_disease_common.disease==disease]\n",
    "    \n",
    "    poly_subsampled +=[disease_subsample]\n",
    "\n",
    "poly_subsampled_final = pd.concat(poly_subsampled, axis=0) # subsampled polyA dataframe based on riboD disease prevalence\n",
    "poly_clinical_disease_common_sumbsampled_final = poly_clinical_disease_common.loc[poly_subsampled_final.index] # modifying polyA clinical file to match the subsampled samples"
   ]
  },
  {
   "cell_type": "code",
   "execution_count": null,
   "metadata": {},
   "outputs": [],
   "source": [
    "assert poly_subsampled_final.columns.values.tolist() == ribo_disease_common.columns.values.tolist()"
   ]
  },
  {
   "cell_type": "markdown",
   "metadata": {},
   "source": [
    "## Merging processed PolyA and RiboD samples into one file for downstream analysis\n",
    "#### Labelling:\n",
    "* Ribo samples = 1\n",
    "* Poly samples = 0"
   ]
  },
  {
   "cell_type": "code",
   "execution_count": null,
   "metadata": {},
   "outputs": [],
   "source": [
    "ribo_labels = ribo_disease_common.shape[0]*[1]\n",
    "poly_labels = poly_subsampled_final.shape[0]*[0]\n",
    "all_labels = ribo_labels+poly_labels\n",
    "\n",
    "merged_disease_common = pd.concat([ribo_disease_common, poly_subsampled_final], axis=0)\n",
    "merged_labels = pd.DataFrame(all_labels, index = merged_disease_common.index, columns = ['Ribo'])\n"
   ]
  },
  {
   "cell_type": "code",
   "execution_count": null,
   "metadata": {},
   "outputs": [],
   "source": [
    "# saving file to disk\n",
    "merged_disease_common.to_csv('../../data_test/MergedData_Balanced.tsv', sep='\\t')\n",
    "merged_labels.to_csv('../../data_test/MergedLabels_Balanced.tsv', sep='\\t')\n"
   ]
  },
  {
   "cell_type": "code",
   "execution_count": null,
   "metadata": {},
   "outputs": [],
   "source": [
    "merged_disease_common.shape"
   ]
  },
  {
   "cell_type": "markdown",
   "metadata": {},
   "source": [
    "## Now diseases are balanced in both datasets"
   ]
  },
  {
   "cell_type": "code",
   "execution_count": null,
   "metadata": {},
   "outputs": [],
   "source": [
    "(poly_clinical_disease_common_sumbsampled_final.disease.value_counts()/poly_clinical_disease_common_sumbsampled_final.disease.value_counts().sum()).plot(kind='bar')\n",
    "plt.title('Final Poly Disease Prevalence', fontsize=15)\n",
    "plt.show()\n",
    "plt.close()"
   ]
  },
  {
   "cell_type": "code",
   "execution_count": null,
   "metadata": {},
   "outputs": [],
   "source": [
    "(ribo_clinical_disease_common.disease.value_counts()/ribo_clinical_disease_common.disease.value_counts().sum()).plot(kind='bar')\n",
    "plt.title('Final Ribo Disease Prevalence', fontsize=15)\n",
    "plt.show()\n",
    "plt.close()"
   ]
  }
 ],
 "metadata": {
  "kernelspec": {
   "display_name": "Python 3",
   "language": "python",
   "name": "python3"
  },
  "language_info": {
   "codemirror_mode": {
    "name": "ipython",
    "version": 3
   },
   "file_extension": ".py",
   "mimetype": "text/x-python",
   "name": "python",
   "nbconvert_exporter": "python",
   "pygments_lexer": "ipython3",
   "version": "3.7.3"
  }
 },
 "nbformat": 4,
 "nbformat_minor": 2
}
