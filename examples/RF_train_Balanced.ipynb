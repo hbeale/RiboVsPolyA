{
 "cells": [
  {
   "cell_type": "markdown",
   "metadata": {},
   "source": [
    "### Disease balanced input data to RF (run2): analysis of classifier resutls"
   ]
  },
  {
   "cell_type": "code",
   "execution_count": 1,
   "metadata": {},
   "outputs": [],
   "source": [
    "import pandas as pd\n",
    "import numpy as np\n",
    "from sklearn.model_selection import train_test_split\n",
    "from sklearn.ensemble import RandomForestClassifier\n",
    "from sklearn.metrics import f1_score, precision_recall_curve,average_precision_score,confusion_matrix\n",
    "\n",
    "import seaborn as sns\n",
    "import matplotlib.pyplot as plt"
   ]
  },
  {
   "cell_type": "code",
   "execution_count": 2,
   "metadata": {},
   "outputs": [],
   "source": [
    "ribo_clinical = pd.read_csv(\"../data_test/TreehousePEDv9_Ribodeplete_clinical_metadata.2019-03-25.tsv\", index_col=0, sep='\\t')['disease']\n",
    "poly_clinical = pd.read_csv(\"../data_test/clinical_TumorCompendium_v10_PolyA_2019-07-25.tsv\", index_col=0, sep='\\t')['disease']\n",
    "all_clinical = pd.concat([ribo_clinical, poly_clinical], axis=0)"
   ]
  },
  {
   "cell_type": "code",
   "execution_count": 3,
   "metadata": {},
   "outputs": [],
   "source": [
    "def fpr_tpr(mat):\n",
    "    '''\n",
    "    Function takes in a confusion matrix\n",
    "    Retunr false positive rate (FPR) and true positive (TPR)\n",
    "    \n",
    "    Only works for binary cases\n",
    "    '''\n",
    "    tn, fp, fn, tp = mat.ravel()\n",
    "    if len(mat.shape) !=2:\n",
    "        raise ValueError('Function can only handle binary classification cases')\n",
    "    tot = mat.sum(axis=1) # total negative(0) and positive(1) labels\n",
    "    FPR = fp/tot[0]\n",
    "    TPR = tp/tot[1]\n",
    "        \n",
    "    return FPR,TPR"
   ]
  },
  {
   "cell_type": "code",
   "execution_count": 4,
   "metadata": {},
   "outputs": [],
   "source": [
    "# loading data: disease balanced data\n",
    "X = pd.read_csv('../data_test/MergedData_Balanced.tsv', sep='\\t', index_col=0)\n",
    "Y = pd.read_csv('../data_test/MergedLabels_Balanced.tsv', sep='\\t', index_col=0)\n",
    "\n",
    "# splitting data into train and test\n",
    "# data is split based on disease\n",
    "# This means that disease prevalence is maintained in both train and test subsets\n",
    "# This ensures reproducibility of the method\n",
    "X_train, X_test, Y_train, Y_test = train_test_split(X,Y, stratify=Y, random_state=42, test_size=0.3)\n",
    "\n",
    "#loading random forest model\n",
    "model = RandomForestClassifier(bootstrap=True, ccp_alpha=0.0, class_weight=None,\n",
    "                       criterion='gini', max_depth=7, max_features='auto',\n",
    "                       max_leaf_nodes=None, max_samples=None,\n",
    "                       min_impurity_decrease=0.0, min_impurity_split=None,\n",
    "                       min_samples_leaf=1, min_samples_split=2,\n",
    "                       min_weight_fraction_leaf=0.0, n_estimators=500,\n",
    "                       n_jobs=None, oob_score=True, random_state=None,\n",
    "                       verbose=0, warm_start=False)\n",
    "#fitting model to data\n",
    "model.fit(X_train, Y_train.values.ravel())\n",
    "pred = model.predict(X_test)\n",
    "#scoring for accuracy\n",
    "score = (model.score(X_test, Y_test.values.ravel()))\n",
    "\n",
    "#getting probability scores for each sample\n",
    "# probability scores for both classes (RiboD, PolyA) will sum to 1\n",
    "y_proba = model.predict_proba(X_test)[:,1]\n",
    "precision, recall, _ = precision_recall_curve(Y_test, y_proba)\n",
    "\n",
    "# mean precision score\n",
    "mean_precision = average_precision_score(Y_test, y_proba)\n",
    "pred_proba = model.predict_proba(X_test)\n",
    "\n",
    "\n",
    "res = {} # results dictionary to be used later for downstream analysis\n",
    "\n",
    "res['test_labels'] = Y_test.values.ravel()\n",
    "res['pred_labels'] = pred\n",
    "res['pred_proba'] = pred_proba\n",
    "res['acc'] = score\n",
    "#res['oob_score'] = model.oob_score_\n",
    "res['model'] = model\n",
    "res['average_precision'] = mean_precision\n",
    "res['precision'] = precision\n",
    "res['recall'] = recall\n",
    "res['genes'] = X.columns.tolist()\n",
    "res['importances'] = model.feature_importances_\n",
    "res['test_samples'] = X_test.index.values\n",
    "\n",
    "#saving results\n",
    "np.save('../results/RF_results_balanced.npy', res)\n"
   ]
  },
  {
   "cell_type": "code",
   "execution_count": 5,
   "metadata": {},
   "outputs": [],
   "source": [
    "# load results\n",
    "results = np.load('../results/RF_results_balanced.npy').item()"
   ]
  },
  {
   "cell_type": "code",
   "execution_count": 6,
   "metadata": {},
   "outputs": [
    {
     "data": {
      "text/plain": [
       "dict_keys(['test_labels', 'pred_labels', 'pred_proba', 'acc', 'model', 'average_precision', 'precision', 'recall', 'genes', 'importances', 'test_samples'])"
      ]
     },
     "execution_count": 6,
     "metadata": {},
     "output_type": "execute_result"
    }
   ],
   "source": [
    "results.keys()"
   ]
  },
  {
   "cell_type": "code",
   "execution_count": 7,
   "metadata": {},
   "outputs": [
    {
     "name": "stdout",
     "output_type": "stream",
     "text": [
      "Accuracy achieved: 0.993\n"
     ]
    }
   ],
   "source": [
    "print('Accuracy achieved: %.3f'%results['acc'])"
   ]
  },
  {
   "cell_type": "code",
   "execution_count": 8,
   "metadata": {},
   "outputs": [
    {
     "name": "stdout",
     "output_type": "stream",
     "text": [
      "Average precision achieved: 0.997\n"
     ]
    }
   ],
   "source": [
    "print('Average precision achieved: %.3f'%results['average_precision'])"
   ]
  },
  {
   "cell_type": "code",
   "execution_count": 9,
   "metadata": {},
   "outputs": [],
   "source": [
    "mismatch = results['test_labels'] != results['pred_labels']\n",
    "mismatch_idx = [i for i,e in enumerate(mismatch) if e ]"
   ]
  },
  {
   "cell_type": "code",
   "execution_count": 10,
   "metadata": {},
   "outputs": [],
   "source": [
    "misclassified_df = pd.DataFrame(results['pred_proba'][mismatch_idx], index=results['test_samples'][mismatch_idx], columns=['PolyA', 'Ribo'])\n"
   ]
  },
  {
   "cell_type": "markdown",
   "metadata": {},
   "source": [
    "### List of miscalssified samples"
   ]
  },
  {
   "cell_type": "code",
   "execution_count": 11,
   "metadata": {},
   "outputs": [
    {
     "data": {
      "text/html": [
       "<div>\n",
       "<style scoped>\n",
       "    .dataframe tbody tr th:only-of-type {\n",
       "        vertical-align: middle;\n",
       "    }\n",
       "\n",
       "    .dataframe tbody tr th {\n",
       "        vertical-align: top;\n",
       "    }\n",
       "\n",
       "    .dataframe thead th {\n",
       "        text-align: right;\n",
       "    }\n",
       "</style>\n",
       "<table border=\"1\" class=\"dataframe\">\n",
       "  <thead>\n",
       "    <tr style=\"text-align: right;\">\n",
       "      <th></th>\n",
       "      <th>PolyA</th>\n",
       "      <th>Ribo</th>\n",
       "    </tr>\n",
       "  </thead>\n",
       "  <tbody>\n",
       "    <tr>\n",
       "      <th>THR20_0512_S01</th>\n",
       "      <td>0.078</td>\n",
       "      <td>0.922</td>\n",
       "    </tr>\n",
       "  </tbody>\n",
       "</table>\n",
       "</div>"
      ],
      "text/plain": [
       "                PolyA   Ribo\n",
       "THR20_0512_S01  0.078  0.922"
      ]
     },
     "execution_count": 11,
     "metadata": {},
     "output_type": "execute_result"
    }
   ],
   "source": [
    "misclassified_df"
   ]
  },
  {
   "cell_type": "code",
   "execution_count": 12,
   "metadata": {},
   "outputs": [
    {
     "data": {
      "text/plain": [
       "THR20_0512_S01    medulloblastoma\n",
       "Name: disease, dtype: object"
      ]
     },
     "execution_count": 12,
     "metadata": {},
     "output_type": "execute_result"
    }
   ],
   "source": [
    "all_clinical.loc[misclassified_df.index]"
   ]
  },
  {
   "cell_type": "code",
   "execution_count": 13,
   "metadata": {},
   "outputs": [
    {
     "data": {
      "text/plain": [
       "dict_keys(['test_labels', 'pred_labels', 'pred_proba', 'acc', 'model', 'average_precision', 'precision', 'recall', 'genes', 'importances', 'test_samples'])"
      ]
     },
     "execution_count": 13,
     "metadata": {},
     "output_type": "execute_result"
    }
   ],
   "source": [
    "results.keys()"
   ]
  },
  {
   "cell_type": "code",
   "execution_count": 14,
   "metadata": {},
   "outputs": [],
   "source": [
    "mat = confusion_matrix(results['test_labels'], results['pred_labels'])"
   ]
  },
  {
   "cell_type": "markdown",
   "metadata": {},
   "source": [
    "### Confusion matrix shows good separation between the two calsses\n",
    "* **Class 0**: PolyA libraries\n",
    "* **Class 1**: Ribo-deplete libraries\n",
    "* 4 PolyA samples misclassified as Ribo-deplete"
   ]
  },
  {
   "cell_type": "code",
   "execution_count": 15,
   "metadata": {},
   "outputs": [
    {
     "data": {
      "text/plain": [
       "Text(0.5, 15.0, 'Predicted Label')"
      ]
     },
     "execution_count": 15,
     "metadata": {},
     "output_type": "execute_result"
    },
    {
     "data": {
      "image/png": "[encoded data removed]",
      "text/plain": [
       "<Figure size 432x288 with 2 Axes>"
      ]
     },
     "metadata": {
      "needs_background": "light"
     },
     "output_type": "display_data"
    }
   ],
   "source": [
    "ax = sns.heatmap(mat, annot=True)\n",
    "ax.set_ylabel(\"True Label\", fontsize=16)\n",
    "ax.set_xlabel(\"Predicted Label\", fontsize=16)\n"
   ]
  },
  {
   "cell_type": "code",
   "execution_count": 16,
   "metadata": {},
   "outputs": [
    {
     "name": "stdout",
     "output_type": "stream",
     "text": [
      "FPR = 0.015, TPR = 1.000\n"
     ]
    }
   ],
   "source": [
    "fpr, tpr = fpr_tpr(mat)\n",
    "print('FPR = {:.3f}, TPR = {:.3f}'.format(fpr, tpr))"
   ]
  },
  {
   "cell_type": "code",
   "execution_count": 17,
   "metadata": {},
   "outputs": [],
   "source": [
    "importances = zip(results['importances'], results['genes'])"
   ]
  },
  {
   "cell_type": "code",
   "execution_count": 18,
   "metadata": {},
   "outputs": [],
   "source": [
    "importances = sorted(importances, key = lambda x:x[0], reverse=True)\n"
   ]
  },
  {
   "cell_type": "code",
   "execution_count": 19,
   "metadata": {},
   "outputs": [],
   "source": [
    "scores = list(map(lambda x:x[0], importances))\n",
    "genes = list(map(lambda x:x[1], importances))"
   ]
  },
  {
   "cell_type": "markdown",
   "metadata": {},
   "source": [
    "### Gene importance determined by RF classifier"
   ]
  },
  {
   "cell_type": "code",
   "execution_count": 20,
   "metadata": {},
   "outputs": [
    {
     "data": {
      "image/png": "[encoded data removed]",
      "text/plain": [
       "<Figure size 432x288 with 1 Axes>"
      ]
     },
     "metadata": {
      "needs_background": "light"
     },
     "output_type": "display_data"
    }
   ],
   "source": [
    "plt.bar(np.arange(len(scores[:20])), scores[:20], width=1)\n",
    "plt.xticks(labels=genes[:20], ticks=np.arange(len(scores[:20])), rotation=90)\n",
    "plt.ylabel(\"Importance\", fontsize=15)\n",
    "plt.show()\n",
    "plt.close()"
   ]
  },
  {
   "cell_type": "code",
   "execution_count": 21,
   "metadata": {},
   "outputs": [],
   "source": [
    "with open('../results/RF_gene_rank_balanced.tsv', 'w') as f:\n",
    "    f.write('Gene\\tScore\\n')\n",
    "    for i in range(len(scores)):\n",
    "        score = scores[i]\n",
    "        gene = genes[i]\n",
    "        f.write(gene+'\\t'+str(score)+'\\n')\n",
    "        \n",
    "    "
   ]
  },
  {
   "cell_type": "markdown",
   "metadata": {},
   "source": [
    "### Attempting to improve probability threshold"
   ]
  },
  {
   "cell_type": "code",
   "execution_count": 22,
   "metadata": {},
   "outputs": [
    {
     "data": {
      "text/plain": [
       "Text(0.5, 1.0, 'Probability of being Ribo')"
      ]
     },
     "execution_count": 22,
     "metadata": {},
     "output_type": "execute_result"
    },
    {
     "data": {
      "image/png": "[encoded data removed]",
      "text/plain": [
       "<Figure size 432x288 with 1 Axes>"
      ]
     },
     "metadata": {
      "needs_background": "light"
     },
     "output_type": "display_data"
    }
   ],
   "source": [
    "plt.hist(results['pred_proba'][:,1])\n",
    "plt.ylabel(\"Number of Samples\", fontsize=15)\n",
    "plt.title('Probability of being Ribo', fontsize=15)"
   ]
  },
  {
   "cell_type": "code",
   "execution_count": 23,
   "metadata": {},
   "outputs": [
    {
     "data": {
      "text/plain": [
       "<Figure size 720x720 with 0 Axes>"
      ]
     },
     "metadata": {},
     "output_type": "display_data"
    },
    {
     "data": {
      "image/png": "[encoded data removed]",
      "text/plain": [
       "<Figure size 432x288 with 1 Axes>"
      ]
     },
     "metadata": {
      "needs_background": "light"
     },
     "output_type": "display_data"
    },
    {
     "name": "stdout",
     "output_type": "stream",
     "text": [
      "Best cutoff: 0.34\n",
      "Best accuracy: 0.9859154929577465\n"
     ]
    },
    {
     "data": {
      "text/plain": [
       "Text(0.5, 15.0, 'Predicted Label')"
      ]
     },
     "execution_count": 23,
     "metadata": {},
     "output_type": "execute_result"
    },
    {
     "data": {
      "image/png": "[encoded data removed]",
      "text/plain": [
       "<Figure size 432x288 with 2 Axes>"
      ]
     },
     "metadata": {
      "needs_background": "light"
     },
     "output_type": "display_data"
    }
   ],
   "source": [
    "accuracy_df=pd.DataFrame()\n",
    "best_score=None\n",
    "best_cutoff=None\n",
    "best_pred=None\n",
    "for cutoff in np.arange(0,1,0.01):\n",
    "\n",
    "    test_pred_classes=[]\n",
    "    for i in results['pred_proba'][:,1]:\n",
    "        if i>=cutoff:\n",
    "            test_pred_classes+=[1]\n",
    "        else:\n",
    "            test_pred_classes+=[0]\n",
    "            \n",
    "    score=average_precision_score(results['test_labels'],test_pred_classes )\n",
    "    accuracy_df.loc[cutoff, 'Accuracy']=score\n",
    "    #storing predictions with best accuracy score\n",
    "    if best_score is None or score>best_score:\n",
    "        best_score=score\n",
    "        best_cutoff=cutoff\n",
    "        best_pred=test_pred_classes\n",
    "\n",
    "\n",
    "plt.figure(figsize=(10,10))\n",
    "accuracy_df.plot(kind='bar')\n",
    "plt.xlabel('Cutoff')\n",
    "plt.xticks(rotation=90)\n",
    "plt.ylabel('Accuracy')\n",
    "\n",
    "plt.show()\n",
    "plt.close()\n",
    "print('Best cutoff: {}'.format(best_cutoff))\n",
    "print('Best accuracy: {}'.format(best_score))\n",
    "\n",
    "# print(accuracy_df.describe())\n",
    "\n",
    "mat_2 = confusion_matrix(results['test_labels'], best_pred)\n",
    "ax2 =sns.heatmap(mat_2, annot=True)\n",
    "ax2.set_ylabel(\"True Label\", fontsize=16)\n",
    "ax2.set_xlabel(\"Predicted Label\", fontsize=16)"
   ]
  },
  {
   "cell_type": "code",
   "execution_count": 24,
   "metadata": {},
   "outputs": [
    {
     "name": "stdout",
     "output_type": "stream",
     "text": [
      "FPR = 0.015, TPR = 1.000\n"
     ]
    }
   ],
   "source": [
    "fpr, tpr = fpr_tpr(mat_2)\n",
    "print('FPR = {:.3f}, TPR = {:.3f}'.format(fpr, tpr))"
   ]
  },
  {
   "cell_type": "markdown",
   "metadata": {},
   "source": [
    "### After optimizing the cutoff:\n",
    "* FPR dropped from 0.03 to 0.015\n",
    "* TPR remained constant at 0.986\n"
   ]
  },
  {
   "cell_type": "markdown",
   "metadata": {},
   "source": [
    "# Applying on rest of PolyA not used in training"
   ]
  },
  {
   "cell_type": "code",
   "execution_count": 25,
   "metadata": {},
   "outputs": [],
   "source": [
    "poly_reduced = pd.read_csv(\"../data_test/Poly_reduced.tsv\", sep='\\t', index_col=0)\n",
    "poly = pd.read_csv(\"../data_test/Poly.tsv\", sep='\\t', index_col=0)\n",
    "poly_rest = poly.loc[list(set(poly.index).difference(poly_reduced.index))]"
   ]
  },
  {
   "cell_type": "code",
   "execution_count": 26,
   "metadata": {},
   "outputs": [],
   "source": [
    "poly_rest_pred = model.predict(poly_rest)\n"
   ]
  },
  {
   "cell_type": "code",
   "execution_count": 27,
   "metadata": {},
   "outputs": [
    {
     "data": {
      "text/plain": [
       "11862"
      ]
     },
     "execution_count": 27,
     "metadata": {},
     "output_type": "execute_result"
    }
   ],
   "source": [
    "(poly_rest_pred==0).sum()"
   ]
  },
  {
   "cell_type": "code",
   "execution_count": 28,
   "metadata": {},
   "outputs": [
    {
     "data": {
      "text/plain": [
       "82"
      ]
     },
     "execution_count": 28,
     "metadata": {},
     "output_type": "execute_result"
    }
   ],
   "source": [
    "(poly_rest_pred==1).sum()"
   ]
  },
  {
   "cell_type": "code",
   "execution_count": null,
   "metadata": {},
   "outputs": [],
   "source": []
  }
 ],
 "metadata": {
  "kernelspec": {
   "display_name": "Python 3",
   "language": "python",
   "name": "python3"
  },
  "language_info": {
   "codemirror_mode": {
    "name": "ipython",
    "version": 3
   },
   "file_extension": ".py",
   "mimetype": "text/x-python",
   "name": "python",
   "nbconvert_exporter": "python",
   "pygments_lexer": "ipython3",
   "version": "3.7.3"
  }
 },
 "nbformat": 4,
 "nbformat_minor": 2
}
