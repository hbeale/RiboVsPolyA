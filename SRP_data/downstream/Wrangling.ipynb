{
 "cells": [
  {
   "cell_type": "code",
   "execution_count": 1,
   "metadata": {},
   "outputs": [],
   "source": [
    "import pandas as pd\n",
    "import numpy as np\n",
    "import os\n"
   ]
  },
  {
   "cell_type": "code",
   "execution_count": 33,
   "metadata": {},
   "outputs": [],
   "source": [
    "tpm=[]\n",
    "fpkm=[]\n",
    "samples = os.listdir(os.getcwd())\n",
    "samples.remove(\"Untitled.ipynb\")\n",
    "samples.remove('.ipynb_checkpoints')"
   ]
  },
  {
   "cell_type": "code",
   "execution_count": null,
   "metadata": {},
   "outputs": [],
   "source": []
  },
  {
   "cell_type": "code",
   "execution_count": 34,
   "metadata": {},
   "outputs": [
    {
     "name": "stdout",
     "output_type": "stream",
     "text": [
      "/mnt/github/RiboVsPolyA/SRP_data/downstream/B_M_2/secondary/ucsc_cgl-rnaseq-cgl-pipeline-3.3.4-785eee9/RSEM/Hugo/rsem_genes.hugo.results\n",
      "/mnt/github/RiboVsPolyA/SRP_data/downstream/B_M_3/secondary/ucsc_cgl-rnaseq-cgl-pipeline-3.3.4-785eee9/RSEM/Hugo/rsem_genes.hugo.results\n",
      "/mnt/github/RiboVsPolyA/SRP_data/downstream/B_M_1/secondary/ucsc_cgl-rnaseq-cgl-pipeline-3.3.4-785eee9/RSEM/Hugo/rsem_genes.hugo.results\n",
      "/mnt/github/RiboVsPolyA/SRP_data/downstream/B_M_4/secondary/ucsc_cgl-rnaseq-cgl-pipeline-3.3.4-785eee9/RSEM/Hugo/rsem_genes.hugo.results\n",
      "/mnt/github/RiboVsPolyA/SRP_data/downstream/B_T_2/secondary/ucsc_cgl-rnaseq-cgl-pipeline-3.3.4-785eee9/RSEM/Hugo/rsem_genes.hugo.results\n",
      "/mnt/github/RiboVsPolyA/SRP_data/downstream/B_T_1/secondary/ucsc_cgl-rnaseq-cgl-pipeline-3.3.4-785eee9/RSEM/Hugo/rsem_genes.hugo.results\n",
      "/mnt/github/RiboVsPolyA/SRP_data/downstream/C_M_1/secondary/ucsc_cgl-rnaseq-cgl-pipeline-3.3.4-785eee9/RSEM/Hugo/rsem_genes.hugo.results\n",
      "/mnt/github/RiboVsPolyA/SRP_data/downstream/B_T_4/secondary/ucsc_cgl-rnaseq-cgl-pipeline-3.3.4-785eee9/RSEM/Hugo/rsem_genes.hugo.results\n",
      "/mnt/github/RiboVsPolyA/SRP_data/downstream/B_T_3/secondary/ucsc_cgl-rnaseq-cgl-pipeline-3.3.4-785eee9/RSEM/Hugo/rsem_genes.hugo.results\n",
      "/mnt/github/RiboVsPolyA/SRP_data/downstream/C_M_3/secondary/ucsc_cgl-rnaseq-cgl-pipeline-3.3.4-785eee9/RSEM/Hugo/rsem_genes.hugo.results\n",
      "/mnt/github/RiboVsPolyA/SRP_data/downstream/C_M_4/secondary/ucsc_cgl-rnaseq-cgl-pipeline-3.3.4-785eee9/RSEM/Hugo/rsem_genes.hugo.results\n",
      "/mnt/github/RiboVsPolyA/SRP_data/downstream/C_M_2/secondary/ucsc_cgl-rnaseq-cgl-pipeline-3.3.4-785eee9/RSEM/Hugo/rsem_genes.hugo.results\n",
      "/mnt/github/RiboVsPolyA/SRP_data/downstream/C_T_2/secondary/ucsc_cgl-rnaseq-cgl-pipeline-3.3.4-785eee9/RSEM/Hugo/rsem_genes.hugo.results\n",
      "/mnt/github/RiboVsPolyA/SRP_data/downstream/C_T_3/secondary/ucsc_cgl-rnaseq-cgl-pipeline-3.3.4-785eee9/RSEM/Hugo/rsem_genes.hugo.results\n",
      "/mnt/github/RiboVsPolyA/SRP_data/downstream/C_T_1/secondary/ucsc_cgl-rnaseq-cgl-pipeline-3.3.4-785eee9/RSEM/Hugo/rsem_genes.hugo.results\n",
      "/mnt/github/RiboVsPolyA/SRP_data/downstream/C_T_4/secondary/ucsc_cgl-rnaseq-cgl-pipeline-3.3.4-785eee9/RSEM/Hugo/rsem_genes.hugo.results\n"
     ]
    }
   ],
   "source": [
    "for sample in samples:\n",
    "    if '.ipynb' not in sample:\n",
    "        path = os.getcwd()+'/'+sample+'/'+'secondary'+'/'+'ucsc_cgl-rnaseq-cgl-pipeline-3.3.4-785eee9'+'/'+'RSEM'+'/'+\"Hugo\"+'/'+'rsem_genes.hugo.results'\n",
    "        print(path)\n",
    "        df = pd.read_csv(path, index_col=0, sep='\\t').drop(columns=['transcript_id(s)', 'length', 'effective_length', 'expected_count'])\n",
    "        tpm +=[df[['TPM']]]\n",
    "        fpkm += [df[['FPKM']]]"
   ]
  },
  {
   "cell_type": "code",
   "execution_count": 35,
   "metadata": {},
   "outputs": [
    {
     "data": {
      "text/plain": [
       "['B_M_2',\n",
       " 'B_M_3',\n",
       " 'B_M_1',\n",
       " 'B_M_4',\n",
       " 'B_T_2',\n",
       " 'B_T_1',\n",
       " 'C_M_1',\n",
       " 'B_T_4',\n",
       " 'B_T_3',\n",
       " 'C_M_3',\n",
       " 'C_M_4',\n",
       " 'C_M_2',\n",
       " 'C_T_2',\n",
       " 'C_T_3',\n",
       " 'C_T_1',\n",
       " 'C_T_4']"
      ]
     },
     "execution_count": 35,
     "metadata": {},
     "output_type": "execute_result"
    }
   ],
   "source": [
    "samples"
   ]
  },
  {
   "cell_type": "code",
   "execution_count": 50,
   "metadata": {},
   "outputs": [],
   "source": [
    "tpm_df = pd.concat(tpm, axis=1).T.reset_index()\n",
    "tpm_df['samples'] = samples\n",
    "tpm_df = tpm_df.drop(columns='index').set_index(\"samples\")\n",
    "del tpm_df.columns.name\n",
    "del tpm_df.index.name\n",
    "\n",
    "fpkm_df = pd.concat(fpkm, axis=1).T.reset_index()\n",
    "fpkm_df['samples'] = samples\n",
    "fpkm_df = fpkm_df.drop(columns='index').set_index(\"samples\")\n",
    "del fpkm_df.columns.name\n",
    "del fpkm_df.index.name\n"
   ]
  },
  {
   "cell_type": "code",
   "execution_count": 54,
   "metadata": {},
   "outputs": [],
   "source": [
    "fpkm_df = fpkm_df.apply(lambda x:np.log2(x+1))"
   ]
  },
  {
   "cell_type": "code",
   "execution_count": 56,
   "metadata": {},
   "outputs": [],
   "source": [
    "fpkm_df.to_csv(\"../../data_test/SRP127360_FPKM_log2_plus_1.tsv\", sep='\\t')"
   ]
  },
  {
   "cell_type": "code",
   "execution_count": 57,
   "metadata": {},
   "outputs": [],
   "source": [
    "tpm_df = tpm_df.apply(lambda x:np.log2(x+1))"
   ]
  },
  {
   "cell_type": "code",
   "execution_count": 58,
   "metadata": {},
   "outputs": [
    {
     "data": {
      "text/plain": [
       "(0.0, 18.37577674164682)"
      ]
     },
     "execution_count": 58,
     "metadata": {},
     "output_type": "execute_result"
    }
   ],
   "source": [
    "tpm_df.min().min(), tpm_df.max().max()"
   ]
  },
  {
   "cell_type": "code",
   "execution_count": 59,
   "metadata": {},
   "outputs": [],
   "source": [
    "tpm_df.to_csv(\"../../data_test/SRP127360_TPM_log2_plus_1.tsv\", sep='\\t')"
   ]
  },
  {
   "cell_type": "code",
   "execution_count": null,
   "metadata": {},
   "outputs": [],
   "source": []
  }
 ],
 "metadata": {
  "kernelspec": {
   "display_name": "Python 3",
   "language": "python",
   "name": "python3"
  },
  "language_info": {
   "codemirror_mode": {
    "name": "ipython",
    "version": 3
   },
   "file_extension": ".py",
   "mimetype": "text/x-python",
   "name": "python",
   "nbconvert_exporter": "python",
   "pygments_lexer": "ipython3",
   "version": "3.7.3"
  }
 },
 "nbformat": 4,
 "nbformat_minor": 2
}
