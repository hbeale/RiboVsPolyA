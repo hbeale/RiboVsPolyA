{
 "cells": [
  {
   "cell_type": "code",
   "execution_count": 1,
   "metadata": {},
   "outputs": [],
   "source": [
    "from outlier_summary import Summary\n",
    "import pandas as pd"
   ]
  },
  {
   "cell_type": "code",
   "execution_count": 2,
   "metadata": {},
   "outputs": [],
   "source": [
    "filter_fn = '../data_test/treehouseDruggableGenes_2019-06-12.txt'\n",
    "filter_genes = []\n",
    "with open(filter_fn, 'r') as f:\n",
    "    lines = f.readlines()\n",
    "    for line in lines[1:]:\n",
    "        line = line.split('\\t')\n",
    "        filter_gene = line[0].strip()\n",
    "        filter_genes += [filter_gene]"
   ]
  },
  {
   "cell_type": "code",
   "execution_count": 3,
   "metadata": {},
   "outputs": [],
   "source": [
    "c = Summary(outlier_fn='../data_test/rsem-tpm-stranded-gene_expression_outliers.tsv')"
   ]
  },
  {
   "cell_type": "code",
   "execution_count": 4,
   "metadata": {},
   "outputs": [
    {
     "name": "stdout",
     "output_type": "stream",
     "text": [
      "(58347, 970)\n",
      "(58347, 970)\n"
     ]
    }
   ],
   "source": [
    "c.load_meta(\"../data_test/pbta_metadata.tsv\")"
   ]
  },
  {
   "cell_type": "code",
   "execution_count": 5,
   "metadata": {},
   "outputs": [],
   "source": [
    "c.count_id(symbols=[\"PUTR\"])"
   ]
  },
  {
   "cell_type": "code",
   "execution_count": 6,
   "metadata": {},
   "outputs": [],
   "source": [
    "c.filter_outliers(filter_genes)"
   ]
  },
  {
   "cell_type": "code",
   "execution_count": 7,
   "metadata": {},
   "outputs": [
    {
     "data": {
      "text/html": [
       "<div>\n",
       "<style scoped>\n",
       "    .dataframe tbody tr th:only-of-type {\n",
       "        vertical-align: middle;\n",
       "    }\n",
       "\n",
       "    .dataframe tbody tr th {\n",
       "        vertical-align: top;\n",
       "    }\n",
       "\n",
       "    .dataframe thead th {\n",
       "        text-align: right;\n",
       "    }\n",
       "</style>\n",
       "<table border=\"1\" class=\"dataframe\">\n",
       "  <thead>\n",
       "    <tr style=\"text-align: right;\">\n",
       "      <th></th>\n",
       "      <th>BS_SFKZSJN1</th>\n",
       "      <th>BS_CVGFNCBJ</th>\n",
       "      <th>BS_B1C6GZ84</th>\n",
       "      <th>BS_GW0GKWMS</th>\n",
       "      <th>BS_1HFK0SXV</th>\n",
       "      <th>BS_Z1A875MW</th>\n",
       "      <th>BS_40MP5BWR</th>\n",
       "      <th>BS_FRZ76GEG</th>\n",
       "      <th>BS_0J9SHHSC</th>\n",
       "      <th>BS_E94QRJDW</th>\n",
       "      <th>...</th>\n",
       "      <th>BS_TE0GVDNG</th>\n",
       "      <th>BS_7ZV3DPGT</th>\n",
       "      <th>BS_AMZ70B6F</th>\n",
       "      <th>BS_QC3XCE6X</th>\n",
       "      <th>BS_TGS109T3</th>\n",
       "      <th>BS_014EVM2D</th>\n",
       "      <th>BS_YCREDZTJ</th>\n",
       "      <th>BS_A14Z8BBK</th>\n",
       "      <th>BS_MKP2Y41Z</th>\n",
       "      <th>BS_TYAYZ9ZW</th>\n",
       "    </tr>\n",
       "    <tr>\n",
       "      <th>gene_id</th>\n",
       "      <th></th>\n",
       "      <th></th>\n",
       "      <th></th>\n",
       "      <th></th>\n",
       "      <th></th>\n",
       "      <th></th>\n",
       "      <th></th>\n",
       "      <th></th>\n",
       "      <th></th>\n",
       "      <th></th>\n",
       "      <th></th>\n",
       "      <th></th>\n",
       "      <th></th>\n",
       "      <th></th>\n",
       "      <th></th>\n",
       "      <th></th>\n",
       "      <th></th>\n",
       "      <th></th>\n",
       "      <th></th>\n",
       "      <th></th>\n",
       "      <th></th>\n",
       "    </tr>\n",
       "  </thead>\n",
       "  <tbody>\n",
       "    <tr>\n",
       "      <th>TSPAN6</th>\n",
       "      <td>PNLR</td>\n",
       "      <td>PNLR</td>\n",
       "      <td>PNLR</td>\n",
       "      <td>PNLR</td>\n",
       "      <td>PNLR</td>\n",
       "      <td>PNLR</td>\n",
       "      <td>PNLR</td>\n",
       "      <td>PNLR</td>\n",
       "      <td>PNLR</td>\n",
       "      <td>PNLR</td>\n",
       "      <td>...</td>\n",
       "      <td>PNLR</td>\n",
       "      <td>PNLR</td>\n",
       "      <td>PNLR</td>\n",
       "      <td>PNLR</td>\n",
       "      <td>PNLR</td>\n",
       "      <td>PNLR</td>\n",
       "      <td>PNLR</td>\n",
       "      <td>PNLR</td>\n",
       "      <td>PNLR</td>\n",
       "      <td>PNLR</td>\n",
       "    </tr>\n",
       "    <tr>\n",
       "      <th>TNMD</th>\n",
       "      <td>PULR</td>\n",
       "      <td>PNLR</td>\n",
       "      <td>PNLR</td>\n",
       "      <td>PNLR</td>\n",
       "      <td>PNLR</td>\n",
       "      <td>PNLR</td>\n",
       "      <td>PNLR</td>\n",
       "      <td>PULR</td>\n",
       "      <td>PNLR</td>\n",
       "      <td>PNLR</td>\n",
       "      <td>...</td>\n",
       "      <td>PNLR</td>\n",
       "      <td>PNLR</td>\n",
       "      <td>PNLR</td>\n",
       "      <td>PNLR</td>\n",
       "      <td>PNLR</td>\n",
       "      <td>PNLR</td>\n",
       "      <td>PNLR</td>\n",
       "      <td>PNLR</td>\n",
       "      <td>PNLR</td>\n",
       "      <td>PNLR</td>\n",
       "    </tr>\n",
       "    <tr>\n",
       "      <th>DPM1</th>\n",
       "      <td>PNLR</td>\n",
       "      <td>PNLR</td>\n",
       "      <td>PNLR</td>\n",
       "      <td>PNLR</td>\n",
       "      <td>PNLR</td>\n",
       "      <td>PNLR</td>\n",
       "      <td>PNLR</td>\n",
       "      <td>PNLR</td>\n",
       "      <td>PNLR</td>\n",
       "      <td>PNLR</td>\n",
       "      <td>...</td>\n",
       "      <td>PNLR</td>\n",
       "      <td>PNLR</td>\n",
       "      <td>PNLR</td>\n",
       "      <td>PNLR</td>\n",
       "      <td>PNLR</td>\n",
       "      <td>PNLR</td>\n",
       "      <td>PNLR</td>\n",
       "      <td>PNLR</td>\n",
       "      <td>PNLR</td>\n",
       "      <td>PNLR</td>\n",
       "    </tr>\n",
       "    <tr>\n",
       "      <th>SCYL3</th>\n",
       "      <td>PNLR</td>\n",
       "      <td>PNLR</td>\n",
       "      <td>PNLR</td>\n",
       "      <td>PULR</td>\n",
       "      <td>PNLR</td>\n",
       "      <td>PNLR</td>\n",
       "      <td>PNLR</td>\n",
       "      <td>PNLR</td>\n",
       "      <td>PNLR</td>\n",
       "      <td>PNLR</td>\n",
       "      <td>...</td>\n",
       "      <td>PNLR</td>\n",
       "      <td>PNLR</td>\n",
       "      <td>PNLR</td>\n",
       "      <td>PNLR</td>\n",
       "      <td>PNLR</td>\n",
       "      <td>PNLR</td>\n",
       "      <td>PNLR</td>\n",
       "      <td>PNLR</td>\n",
       "      <td>PNLR</td>\n",
       "      <td>PNLR</td>\n",
       "    </tr>\n",
       "    <tr>\n",
       "      <th>C1orf112</th>\n",
       "      <td>PNLR</td>\n",
       "      <td>PNLR</td>\n",
       "      <td>PNLR</td>\n",
       "      <td>PNLR</td>\n",
       "      <td>PNLR</td>\n",
       "      <td>PNLR</td>\n",
       "      <td>PNLR</td>\n",
       "      <td>PNLR</td>\n",
       "      <td>PNLR</td>\n",
       "      <td>PNLR</td>\n",
       "      <td>...</td>\n",
       "      <td>PNLR</td>\n",
       "      <td>PNLR</td>\n",
       "      <td>PNLR</td>\n",
       "      <td>PNLR</td>\n",
       "      <td>PNLR</td>\n",
       "      <td>PNLR</td>\n",
       "      <td>PNLR</td>\n",
       "      <td>PNLR</td>\n",
       "      <td>PNLR</td>\n",
       "      <td>PNLR</td>\n",
       "    </tr>\n",
       "  </tbody>\n",
       "</table>\n",
       "<p>5 rows × 970 columns</p>\n",
       "</div>"
      ],
      "text/plain": [
       "         BS_SFKZSJN1 BS_CVGFNCBJ BS_B1C6GZ84 BS_GW0GKWMS BS_1HFK0SXV  \\\n",
       "gene_id                                                                \n",
       "TSPAN6          PNLR        PNLR        PNLR        PNLR        PNLR   \n",
       "TNMD            PULR        PNLR        PNLR        PNLR        PNLR   \n",
       "DPM1            PNLR        PNLR        PNLR        PNLR        PNLR   \n",
       "SCYL3           PNLR        PNLR        PNLR        PULR        PNLR   \n",
       "C1orf112        PNLR        PNLR        PNLR        PNLR        PNLR   \n",
       "\n",
       "         BS_Z1A875MW BS_40MP5BWR BS_FRZ76GEG BS_0J9SHHSC BS_E94QRJDW  ...  \\\n",
       "gene_id                                                               ...   \n",
       "TSPAN6          PNLR        PNLR        PNLR        PNLR        PNLR  ...   \n",
       "TNMD            PNLR        PNLR        PULR        PNLR        PNLR  ...   \n",
       "DPM1            PNLR        PNLR        PNLR        PNLR        PNLR  ...   \n",
       "SCYL3           PNLR        PNLR        PNLR        PNLR        PNLR  ...   \n",
       "C1orf112        PNLR        PNLR        PNLR        PNLR        PNLR  ...   \n",
       "\n",
       "         BS_TE0GVDNG BS_7ZV3DPGT BS_AMZ70B6F BS_QC3XCE6X BS_TGS109T3  \\\n",
       "gene_id                                                                \n",
       "TSPAN6          PNLR        PNLR        PNLR        PNLR        PNLR   \n",
       "TNMD            PNLR        PNLR        PNLR        PNLR        PNLR   \n",
       "DPM1            PNLR        PNLR        PNLR        PNLR        PNLR   \n",
       "SCYL3           PNLR        PNLR        PNLR        PNLR        PNLR   \n",
       "C1orf112        PNLR        PNLR        PNLR        PNLR        PNLR   \n",
       "\n",
       "         BS_014EVM2D BS_YCREDZTJ BS_A14Z8BBK BS_MKP2Y41Z BS_TYAYZ9ZW  \n",
       "gene_id                                                               \n",
       "TSPAN6          PNLR        PNLR        PNLR        PNLR        PNLR  \n",
       "TNMD            PNLR        PNLR        PNLR        PNLR        PNLR  \n",
       "DPM1            PNLR        PNLR        PNLR        PNLR        PNLR  \n",
       "SCYL3           PNLR        PNLR        PNLR        PNLR        PNLR  \n",
       "C1orf112        PNLR        PNLR        PNLR        PNLR        PNLR  \n",
       "\n",
       "[5 rows x 970 columns]"
      ]
     },
     "execution_count": 7,
     "metadata": {},
     "output_type": "execute_result"
    }
   ],
   "source": [
    "c.df.head()"
   ]
  },
  {
   "cell_type": "code",
   "execution_count": 9,
   "metadata": {},
   "outputs": [
    {
     "data": {
      "image/png": "[encoded data removed]",
      "text/plain": [
       "<Figure size 720x360 with 1 Axes>"
      ]
     },
     "metadata": {
      "needs_background": "light"
     },
     "output_type": "display_data"
    }
   ],
   "source": [
    "c.plot_outliers(normalize=True, n=5, meta_column='broad_histology')\n",
    "# include percentage in legend for each category (n=50/total (%))\n",
    "# move legend out of plot"
   ]
  },
  {
   "cell_type": "code",
   "execution_count": null,
   "metadata": {},
   "outputs": [],
   "source": [
    "# make higher level groups\n",
    "# if there is one sample in one category, lump in another category"
   ]
  },
  {
   "cell_type": "code",
   "execution_count": null,
   "metadata": {},
   "outputs": [],
   "source": [
    "meta = pd.read_csv(\"../data_test/pbta_metadata.tsv\", sep='\\t', index_col=0)"
   ]
  },
  {
   "cell_type": "code",
   "execution_count": null,
   "metadata": {},
   "outputs": [],
   "source": [
    "meta[[ , 'broad_histology']].head()\n",
    "# one graph for each category from short_hisotology\n",
    " # have it make a stacked plot for each histology type, instead of separate plots\n",
    "# make it take a column and group by the categories within the column\n",
    "    # return a table of counts for each category for each gene (gene X category) counts matrix\n",
    "# if NAN assume WT for mutation and subtype columns (maybe not)\n",
    "# for histologies if NAN they are from whole blood\n",
    "# when loading the metadatafile make sure to filter by samples\n",
    "    # not all of them are in the rna-seq file\n"
   ]
  },
  {
   "cell_type": "code",
   "execution_count": null,
   "metadata": {},
   "outputs": [],
   "source": [
    "meta[['OS_status', 'OS_days']]"
   ]
  },
  {
   "cell_type": "code",
   "execution_count": null,
   "metadata": {},
   "outputs": [],
   "source": []
  }
 ],
 "metadata": {
  "kernelspec": {
   "display_name": "Python 3",
   "language": "python",
   "name": "python3"
  },
  "language_info": {
   "codemirror_mode": {
    "name": "ipython",
    "version": 3
   },
   "file_extension": ".py",
   "mimetype": "text/x-python",
   "name": "python",
   "nbconvert_exporter": "python",
   "pygments_lexer": "ipython3",
   "version": "3.7.3"
  }
 },
 "nbformat": 4,
 "nbformat_minor": 2
}
